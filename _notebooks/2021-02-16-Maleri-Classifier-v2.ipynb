{
  "nbformat": 4,
  "nbformat_minor": 0,
  "metadata": {
    "jupytext": {
      "split_at_heading": true
    },
    "kernelspec": {
      "display_name": "Python 3",
      "language": "python",
      "name": "python3"
    },
    "language_info": {
      "codemirror_mode": {
        "name": "ipython",
        "version": 3
      },
      "file_extension": ".py",
      "mimetype": "text/x-python",
      "name": "python",
      "nbconvert_exporter": "python",
      "pygments_lexer": "ipython3",
      "version": "3.8.6"
    },
    "colab": {
      "name": "2021-02-16-Playstation Classifier.ipynb",
      "provenance": [],
      "toc_visible": true
    },
    "widgets": {
      "application/vnd.jupyter.widget-state+json": {
        "9f8e9e9a430c482882acbb6a8eb69d3c": {
          "model_module": "@jupyter-widgets/controls",
          "model_name": "VBoxModel",
          "state": {
            "_view_name": "VBoxView",
            "_dom_classes": [],
            "_model_name": "VBoxModel",
            "_view_module": "@jupyter-widgets/controls",
            "_model_module_version": "1.5.0",
            "_view_count": null,
            "_view_module_version": "1.5.0",
            "box_style": "",
            "layout": "IPY_MODEL_68af9a9b23d64361b2c6ad5b4d91157d",
            "_model_module": "@jupyter-widgets/controls",
            "children": [
              "IPY_MODEL_6495974a86034daab1c30c73c45b5ced",
              "IPY_MODEL_c8acb24d151a42b78e8670ca3b602b77",
              "IPY_MODEL_2d8b987d0c1241d79678c76c279540c3",
              "IPY_MODEL_a118db770b57469ebb64cac2a68426c5",
              "IPY_MODEL_ab76b8882fd44bfc9b4e1345057e1032"
            ]
          }
        },
        "68af9a9b23d64361b2c6ad5b4d91157d": {
          "model_module": "@jupyter-widgets/base",
          "model_name": "LayoutModel",
          "state": {
            "_view_name": "LayoutView",
            "grid_template_rows": null,
            "right": null,
            "justify_content": null,
            "_view_module": "@jupyter-widgets/base",
            "overflow": null,
            "_model_module_version": "1.2.0",
            "_view_count": null,
            "flex_flow": null,
            "width": null,
            "min_width": null,
            "border": null,
            "align_items": null,
            "bottom": null,
            "_model_module": "@jupyter-widgets/base",
            "top": null,
            "grid_column": null,
            "overflow_y": null,
            "overflow_x": null,
            "grid_auto_flow": null,
            "grid_area": null,
            "grid_template_columns": null,
            "flex": null,
            "_model_name": "LayoutModel",
            "justify_items": null,
            "grid_row": null,
            "max_height": null,
            "align_content": null,
            "visibility": null,
            "align_self": null,
            "height": null,
            "min_height": null,
            "padding": null,
            "grid_auto_rows": null,
            "grid_gap": null,
            "max_width": null,
            "order": null,
            "_view_module_version": "1.2.0",
            "grid_template_areas": null,
            "object_position": null,
            "object_fit": null,
            "grid_auto_columns": null,
            "margin": null,
            "display": null,
            "left": null
          }
        },
        "6495974a86034daab1c30c73c45b5ced": {
          "model_module": "@jupyter-widgets/controls",
          "model_name": "LabelModel",
          "state": {
            "_view_name": "LabelView",
            "style": "IPY_MODEL_02c2196e3ee341b9bd54f85d21518545",
            "_dom_classes": [],
            "description": "",
            "_model_name": "LabelModel",
            "placeholder": "​",
            "_view_module": "@jupyter-widgets/controls",
            "_model_module_version": "1.5.0",
            "value": "Select your painting!",
            "_view_count": null,
            "_view_module_version": "1.5.0",
            "description_tooltip": null,
            "_model_module": "@jupyter-widgets/controls",
            "layout": "IPY_MODEL_b92af84d59f8477cbd234531cef6cec5"
          }
        },
        "c8acb24d151a42b78e8670ca3b602b77": {
          "model_module": "@jupyter-widgets/controls",
          "model_name": "FileUploadModel",
          "state": {
            "_view_name": "FileUploadView",
            "_counter": 0,
            "style": "IPY_MODEL_8496fb98d0d94ba7b436c5f0554af024",
            "_dom_classes": [],
            "description": "Upload",
            "multiple": false,
            "_model_name": "FileUploadModel",
            "data": [],
            "button_style": "",
            "_view_module": "@jupyter-widgets/controls",
            "_model_module_version": "1.5.0",
            "accept": "",
            "_view_count": null,
            "disabled": false,
            "_view_module_version": "1.5.0",
            "error": "",
            "description_tooltip": null,
            "metadata": [],
            "_model_module": "@jupyter-widgets/controls",
            "layout": "IPY_MODEL_856d2927cff2431c92a0e80a6af9157f",
            "icon": "upload"
          }
        },
        "2d8b987d0c1241d79678c76c279540c3": {
          "model_module": "@jupyter-widgets/controls",
          "model_name": "ButtonModel",
          "state": {
            "_view_name": "ButtonView",
            "style": "IPY_MODEL_c2bbfd5ebdbe45a6ae206e274acd70a4",
            "_dom_classes": [],
            "description": "Classify",
            "_model_name": "ButtonModel",
            "button_style": "",
            "_view_module": "@jupyter-widgets/controls",
            "_model_module_version": "1.5.0",
            "tooltip": "",
            "_view_count": null,
            "disabled": false,
            "_view_module_version": "1.5.0",
            "layout": "IPY_MODEL_35dd68271eb34aa2b24ddb19d3a9c242",
            "_model_module": "@jupyter-widgets/controls",
            "icon": ""
          }
        },
        "a118db770b57469ebb64cac2a68426c5": {
          "model_module": "@jupyter-widgets/output",
          "model_name": "OutputModel",
          "state": {
            "_view_name": "OutputView",
            "msg_id": "",
            "_dom_classes": [],
            "_model_name": "OutputModel",
            "outputs": [
              {
                "output_type": "display_data",
                "metadata": {
                  "tags": []
                },
                "image/png": "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\n",
                "text/plain": "<PIL.Image.Image image mode=RGB size=109x128 at 0x7F65427937F0>"
              }
            ],
            "_view_module": "@jupyter-widgets/output",
            "_model_module_version": "1.0.0",
            "_view_count": null,
            "_view_module_version": "1.0.0",
            "layout": "IPY_MODEL_324a174f400442bfb7d6a62213a9ec34",
            "_model_module": "@jupyter-widgets/output"
          }
        },
        "ab76b8882fd44bfc9b4e1345057e1032": {
          "model_module": "@jupyter-widgets/controls",
          "model_name": "LabelModel",
          "state": {
            "_view_name": "LabelView",
            "style": "IPY_MODEL_e8e18c4c78f9493491a8bf546e102392",
            "_dom_classes": [],
            "description": "",
            "_model_name": "LabelModel",
            "placeholder": "​",
            "_view_module": "@jupyter-widgets/controls",
            "_model_module_version": "1.5.0",
            "value": "Prediction: Abildgaard, Nicolai; Probability: 0.9688",
            "_view_count": null,
            "_view_module_version": "1.5.0",
            "description_tooltip": null,
            "_model_module": "@jupyter-widgets/controls",
            "layout": "IPY_MODEL_885c2d2a84f8497b866c60b7edc68b30"
          }
        },
        "02c2196e3ee341b9bd54f85d21518545": {
          "model_module": "@jupyter-widgets/controls",
          "model_name": "DescriptionStyleModel",
          "state": {
            "_view_name": "StyleView",
            "_model_name": "DescriptionStyleModel",
            "description_width": "",
            "_view_module": "@jupyter-widgets/base",
            "_model_module_version": "1.5.0",
            "_view_count": null,
            "_view_module_version": "1.2.0",
            "_model_module": "@jupyter-widgets/controls"
          }
        },
        "b92af84d59f8477cbd234531cef6cec5": {
          "model_module": "@jupyter-widgets/base",
          "model_name": "LayoutModel",
          "state": {
            "_view_name": "LayoutView",
            "grid_template_rows": null,
            "right": null,
            "justify_content": null,
            "_view_module": "@jupyter-widgets/base",
            "overflow": null,
            "_model_module_version": "1.2.0",
            "_view_count": null,
            "flex_flow": null,
            "width": null,
            "min_width": null,
            "border": null,
            "align_items": null,
            "bottom": null,
            "_model_module": "@jupyter-widgets/base",
            "top": null,
            "grid_column": null,
            "overflow_y": null,
            "overflow_x": null,
            "grid_auto_flow": null,
            "grid_area": null,
            "grid_template_columns": null,
            "flex": null,
            "_model_name": "LayoutModel",
            "justify_items": null,
            "grid_row": null,
            "max_height": null,
            "align_content": null,
            "visibility": null,
            "align_self": null,
            "height": null,
            "min_height": null,
            "padding": null,
            "grid_auto_rows": null,
            "grid_gap": null,
            "max_width": null,
            "order": null,
            "_view_module_version": "1.2.0",
            "grid_template_areas": null,
            "object_position": null,
            "object_fit": null,
            "grid_auto_columns": null,
            "margin": null,
            "display": null,
            "left": null
          }
        },
        "8496fb98d0d94ba7b436c5f0554af024": {
          "model_module": "@jupyter-widgets/controls",
          "model_name": "ButtonStyleModel",
          "state": {
            "_view_name": "StyleView",
            "_model_name": "ButtonStyleModel",
            "_view_module": "@jupyter-widgets/base",
            "_model_module_version": "1.5.0",
            "_view_count": null,
            "button_color": null,
            "font_weight": "",
            "_view_module_version": "1.2.0",
            "_model_module": "@jupyter-widgets/controls"
          }
        },
        "856d2927cff2431c92a0e80a6af9157f": {
          "model_module": "@jupyter-widgets/base",
          "model_name": "LayoutModel",
          "state": {
            "_view_name": "LayoutView",
            "grid_template_rows": null,
            "right": null,
            "justify_content": null,
            "_view_module": "@jupyter-widgets/base",
            "overflow": null,
            "_model_module_version": "1.2.0",
            "_view_count": null,
            "flex_flow": null,
            "width": null,
            "min_width": null,
            "border": null,
            "align_items": null,
            "bottom": null,
            "_model_module": "@jupyter-widgets/base",
            "top": null,
            "grid_column": null,
            "overflow_y": null,
            "overflow_x": null,
            "grid_auto_flow": null,
            "grid_area": null,
            "grid_template_columns": null,
            "flex": null,
            "_model_name": "LayoutModel",
            "justify_items": null,
            "grid_row": null,
            "max_height": null,
            "align_content": null,
            "visibility": null,
            "align_self": null,
            "height": null,
            "min_height": null,
            "padding": null,
            "grid_auto_rows": null,
            "grid_gap": null,
            "max_width": null,
            "order": null,
            "_view_module_version": "1.2.0",
            "grid_template_areas": null,
            "object_position": null,
            "object_fit": null,
            "grid_auto_columns": null,
            "margin": null,
            "display": null,
            "left": null
          }
        },
        "c2bbfd5ebdbe45a6ae206e274acd70a4": {
          "model_module": "@jupyter-widgets/controls",
          "model_name": "ButtonStyleModel",
          "state": {
            "_view_name": "StyleView",
            "_model_name": "ButtonStyleModel",
            "_view_module": "@jupyter-widgets/base",
            "_model_module_version": "1.5.0",
            "_view_count": null,
            "button_color": null,
            "font_weight": "",
            "_view_module_version": "1.2.0",
            "_model_module": "@jupyter-widgets/controls"
          }
        },
        "35dd68271eb34aa2b24ddb19d3a9c242": {
          "model_module": "@jupyter-widgets/base",
          "model_name": "LayoutModel",
          "state": {
            "_view_name": "LayoutView",
            "grid_template_rows": null,
            "right": null,
            "justify_content": null,
            "_view_module": "@jupyter-widgets/base",
            "overflow": null,
            "_model_module_version": "1.2.0",
            "_view_count": null,
            "flex_flow": null,
            "width": null,
            "min_width": null,
            "border": null,
            "align_items": null,
            "bottom": null,
            "_model_module": "@jupyter-widgets/base",
            "top": null,
            "grid_column": null,
            "overflow_y": null,
            "overflow_x": null,
            "grid_auto_flow": null,
            "grid_area": null,
            "grid_template_columns": null,
            "flex": null,
            "_model_name": "LayoutModel",
            "justify_items": null,
            "grid_row": null,
            "max_height": null,
            "align_content": null,
            "visibility": null,
            "align_self": null,
            "height": null,
            "min_height": null,
            "padding": null,
            "grid_auto_rows": null,
            "grid_gap": null,
            "max_width": null,
            "order": null,
            "_view_module_version": "1.2.0",
            "grid_template_areas": null,
            "object_position": null,
            "object_fit": null,
            "grid_auto_columns": null,
            "margin": null,
            "display": null,
            "left": null
          }
        },
        "e8e18c4c78f9493491a8bf546e102392": {
          "model_module": "@jupyter-widgets/controls",
          "model_name": "DescriptionStyleModel",
          "state": {
            "_view_name": "StyleView",
            "_model_name": "DescriptionStyleModel",
            "description_width": "",
            "_view_module": "@jupyter-widgets/base",
            "_model_module_version": "1.5.0",
            "_view_count": null,
            "_view_module_version": "1.2.0",
            "_model_module": "@jupyter-widgets/controls"
          }
        },
        "885c2d2a84f8497b866c60b7edc68b30": {
          "model_module": "@jupyter-widgets/base",
          "model_name": "LayoutModel",
          "state": {
            "_view_name": "LayoutView",
            "grid_template_rows": null,
            "right": null,
            "justify_content": null,
            "_view_module": "@jupyter-widgets/base",
            "overflow": null,
            "_model_module_version": "1.2.0",
            "_view_count": null,
            "flex_flow": null,
            "width": null,
            "min_width": null,
            "border": null,
            "align_items": null,
            "bottom": null,
            "_model_module": "@jupyter-widgets/base",
            "top": null,
            "grid_column": null,
            "overflow_y": null,
            "overflow_x": null,
            "grid_auto_flow": null,
            "grid_area": null,
            "grid_template_columns": null,
            "flex": null,
            "_model_name": "LayoutModel",
            "justify_items": null,
            "grid_row": null,
            "max_height": null,
            "align_content": null,
            "visibility": null,
            "align_self": null,
            "height": null,
            "min_height": null,
            "padding": null,
            "grid_auto_rows": null,
            "grid_gap": null,
            "max_width": null,
            "order": null,
            "_view_module_version": "1.2.0",
            "grid_template_areas": null,
            "object_position": null,
            "object_fit": null,
            "grid_auto_columns": null,
            "margin": null,
            "display": null,
            "left": null
          }
        },
        "324a174f400442bfb7d6a62213a9ec34": {
          "model_module": "@jupyter-widgets/base",
          "model_name": "LayoutModel",
          "state": {
            "_view_name": "LayoutView",
            "grid_template_rows": null,
            "right": null,
            "justify_content": null,
            "_view_module": "@jupyter-widgets/base",
            "overflow": null,
            "_model_module_version": "1.2.0",
            "_view_count": null,
            "flex_flow": null,
            "width": null,
            "min_width": null,
            "border": null,
            "align_items": null,
            "bottom": null,
            "_model_module": "@jupyter-widgets/base",
            "top": null,
            "grid_column": null,
            "overflow_y": null,
            "overflow_x": null,
            "grid_auto_flow": null,
            "grid_area": null,
            "grid_template_columns": null,
            "flex": null,
            "_model_name": "LayoutModel",
            "justify_items": null,
            "grid_row": null,
            "max_height": null,
            "align_content": null,
            "visibility": null,
            "align_self": null,
            "height": null,
            "min_height": null,
            "padding": null,
            "grid_auto_rows": null,
            "grid_gap": null,
            "max_width": null,
            "order": null,
            "_view_module_version": "1.2.0",
            "grid_template_areas": null,
            "object_position": null,
            "object_fit": null,
            "grid_auto_columns": null,
            "margin": null,
            "display": null,
            "left": null
          }
        }
      }
    },
    "accelerator": "GPU"
  },
  "cells": [
    {
      "cell_type": "markdown",
      "metadata": {
        "id": "7l0x9io_SqSE"
      },
      "source": [
        "# Maleri Classifier v2"
      ]
    },
    {
      "cell_type": "markdown",
      "metadata": {
        "id": "xNdTOfZxx2Qs"
      },
      "source": [
        "This time with 134 more layers"
      ]
    },
    {
      "cell_type": "markdown",
      "metadata": {
        "gradient": {
          "editing": false
        },
        "id": "xUfiBMNoFhG5"
      },
      "source": [
        "Setup"
      ]
    },
    {
      "cell_type": "code",
      "metadata": {
        "gradient": {},
        "id": "D7uSbdQDFhG9"
      },
      "source": [
        "!pip install -Uqq fastbook\n",
        "import fastbook\n",
        "fastbook.setup_book()"
      ],
      "execution_count": null,
      "outputs": []
    },
    {
      "cell_type": "code",
      "metadata": {
        "gradient": {},
        "id": "hg5_yDiyFhG9"
      },
      "source": [
        "from fastbook import *\n",
        "from fastai.vision.widgets import *"
      ],
      "execution_count": 2,
      "outputs": []
    },
    {
      "cell_type": "code",
      "metadata": {
        "gradient": {},
        "id": "1W4Vk0xeFhG-"
      },
      "source": [
        "types = 'Abildgaard, Nicolai','Dahl, J.C','Eckersberg, C.W','Hammershøi, Vilhelm','Hansen, Constantin','Jensen, C.A','Juel, Jens','Krøyer, P.S','Kyhn, Vilhelm','Købke, Christen','Lorentzen, C.A','Marstrand, Wilhelm','Pauelsen, Erik','Philipsen, Theodor','Skovgaard, P.C'\n",
        "path = Path('gdrive/MyDrive/AI Machine Learning/images/Maleri Classifier')"
      ],
      "execution_count": 3,
      "outputs": []
    },
    {
      "cell_type": "markdown",
      "metadata": {
        "gradient": {
          "editing": false
        },
        "id": "gEU-MnnDFhG_"
      },
      "source": [
        "File tests"
      ]
    },
    {
      "cell_type": "code",
      "metadata": {
        "gradient": {},
        "id": "HIVMiV6JFhG_"
      },
      "source": [
        "fns = get_image_files(path)\n",
        "fns"
      ],
      "execution_count": null,
      "outputs": []
    },
    {
      "cell_type": "code",
      "metadata": {
        "gradient": {},
        "id": "6RdbPyq8FhHA"
      },
      "source": [
        "data = DataBlock(\n",
        "    blocks=(ImageBlock, CategoryBlock), \n",
        "    get_items=get_image_files, \n",
        "    splitter=RandomSplitter(valid_pct=0.2, seed=42),\n",
        "    get_y=parent_label,\n",
        "    item_tfms=Resize(128))"
      ],
      "execution_count": 5,
      "outputs": []
    },
    {
      "cell_type": "code",
      "metadata": {
        "gradient": {},
        "id": "ZYnb09kCFhHA"
      },
      "source": [
        "dls = data.dataloaders(path)"
      ],
      "execution_count": 6,
      "outputs": []
    },
    {
      "cell_type": "markdown",
      "metadata": {
        "gradient": {
          "editing": false
        },
        "id": "gvl0Mfe_FhHB"
      },
      "source": [
        "Model training"
      ]
    },
    {
      "cell_type": "code",
      "metadata": {
        "gradient": {},
        "id": "wXUG6P-nFhHB"
      },
      "source": [
        "data = data.new(\n",
        "    item_tfms=RandomResizedCrop(224, min_scale=0.5),\n",
        "    batch_tfms=aug_transforms())\n",
        "dls = data.dataloaders(path)"
      ],
      "execution_count": 7,
      "outputs": []
    },
    {
      "cell_type": "code",
      "metadata": {
        "gradient": {},
        "id": "8nv-fNBQFhHB"
      },
      "source": [
        "learn = cnn_learner(dls, resnet152, metrics=error_rate)\n",
        "learn.fine_tune(10)"
      ],
      "execution_count": null,
      "outputs": []
    },
    {
      "cell_type": "code",
      "metadata": {
        "gradient": {},
        "id": "fOqUdPa3FhHB",
        "outputId": "83059faf-ea6b-4607-e05d-ab68a51c5e59",
        "colab": {
          "base_uri": "https://localhost:8080/",
          "height": 311
        }
      },
      "source": [
        "interp = ClassificationInterpretation.from_learner(learn)\n",
        "interp.plot_confusion_matrix()"
      ],
      "execution_count": 36,
      "outputs": [
        {
          "output_type": "display_data",
          "data": {
            "text/html": [
              ""
            ],
            "text/plain": [
              "<IPython.core.display.HTML object>"
            ]
          },
          "metadata": {
            "tags": []
          }
        },
        {
          "output_type": "display_data",
          "data": {
            "image/png": "[encoded data removed]",
            "text/plain": [
              "<Figure size 432x288 with 1 Axes>"
            ]
          },
          "metadata": {
            "tags": [],
            "needs_background": "light"
          }
        }
      ]
    },
    {
      "cell_type": "markdown",
      "metadata": {
        "gradient": {
          "editing": false
        },
        "id": "9rDNdRgvFhHC"
      },
      "source": [
        "Exporting"
      ]
    },
    {
      "cell_type": "code",
      "metadata": {
        "gradient": {},
        "id": "fsO9qLXcFhHC"
      },
      "source": [
        "learn.export()"
      ],
      "execution_count": 37,
      "outputs": []
    },
    {
      "cell_type": "markdown",
      "metadata": {
        "gradient": {
          "editing": false
        },
        "id": "-gmEmFnUFhHE"
      },
      "source": [
        "App"
      ]
    },
    {
      "cell_type": "code",
      "metadata": {
        "gradient": {
          "source_hidden": false
        },
        "id": "YVzb9M17FhHE"
      },
      "source": [
        "learn_inf = load_learner('gdrive/MyDrive/AI Machine Learning/models/MaleriExport_v2.pkl')"
      ],
      "execution_count": 40,
      "outputs": []
    },
    {
      "cell_type": "code",
      "metadata": {
        "id": "zn-q1DyFFhHE"
      },
      "source": [
        "img = PILImage.create('gdrive/MyDrive/AI Machine Learning/images/Unknown Maleri.jpg')"
      ],
      "execution_count": 41,
      "outputs": []
    },
    {
      "cell_type": "code",
      "metadata": {
        "id": "ETfERvImFhHF"
      },
      "source": [
        "out_pl = widgets.Output()\n",
        "out_pl.clear_output()\n",
        "with out_pl: display(img.to_thumb(128,128))\n",
        "out_pl"
      ],
      "execution_count": null,
      "outputs": []
    },
    {
      "cell_type": "code",
      "metadata": {
        "id": "65sn3HAsFhHF"
      },
      "source": [
        "pred,pred_idx,probs = learn_inf.predict(img)"
      ],
      "execution_count": null,
      "outputs": []
    },
    {
      "cell_type": "code",
      "metadata": {
        "id": "RkKi4LcJFhHF"
      },
      "source": [
        "lbl_pred = widgets.Label()\n",
        "lbl_pred.value = f'Prediction: {pred}; Probability: {probs[pred_idx]:.04f}'\n",
        "lbl_pred"
      ],
      "execution_count": null,
      "outputs": []
    },
    {
      "cell_type": "code",
      "metadata": {
        "id": "3DwaQQV9FhHF"
      },
      "source": [
        "btn_run = widgets.Button(description='Classify')\n",
        "btn_run"
      ],
      "execution_count": null,
      "outputs": []
    },
    {
      "cell_type": "code",
      "metadata": {
        "id": "maedw4keFhHF"
      },
      "source": [
        "def on_click_classify(change):\n",
        "    img = PILImage.create(btn_upload.data[-1])\n",
        "    out_pl.clear_output()\n",
        "    with out_pl: display(img.to_thumb(128,128))\n",
        "    pred,pred_idx,probs = learn_inf.predict(img)\n",
        "    lbl_pred.value = f'Prediction: {pred}; Probability: {probs[pred_idx]:.04f}'\n",
        "\n",
        "btn_run.on_click(on_click_classify)"
      ],
      "execution_count": 45,
      "outputs": []
    },
    {
      "cell_type": "code",
      "metadata": {
        "id": "QJwe3xtcFhHG"
      },
      "source": [
        "#Putting back btn_upload to a widget for next cell\n",
        "btn_upload = widgets.FileUpload()"
      ],
      "execution_count": 46,
      "outputs": []
    },
    {
      "cell_type": "code",
      "metadata": {
        "id": "DBLkVdXqFhHG",
        "colab": {
          "base_uri": "https://localhost:8080/",
          "height": 273,
          "referenced_widgets": [
            "9f8e9e9a430c482882acbb6a8eb69d3c",
            "68af9a9b23d64361b2c6ad5b4d91157d",
            "6495974a86034daab1c30c73c45b5ced",
            "c8acb24d151a42b78e8670ca3b602b77",
            "2d8b987d0c1241d79678c76c279540c3",
            "a118db770b57469ebb64cac2a68426c5",
            "ab76b8882fd44bfc9b4e1345057e1032",
            "02c2196e3ee341b9bd54f85d21518545",
            "b92af84d59f8477cbd234531cef6cec5",
            "8496fb98d0d94ba7b436c5f0554af024",
            "856d2927cff2431c92a0e80a6af9157f",
            "c2bbfd5ebdbe45a6ae206e274acd70a4",
            "35dd68271eb34aa2b24ddb19d3a9c242",
            "e8e18c4c78f9493491a8bf546e102392",
            "885c2d2a84f8497b866c60b7edc68b30",
            "324a174f400442bfb7d6a62213a9ec34"
          ]
        },
        "outputId": "f3e8a9eb-b610-4979-de4a-c6d41ebb616d"
      },
      "source": [
        "VBox([widgets.Label('Select your painting!'), \n",
        "      btn_upload, btn_run, out_pl, lbl_pred])"
      ],
      "execution_count": 47,
      "outputs": [
        {
          "output_type": "display_data",
          "data": {
            "application/vnd.jupyter.widget-view+json": {
              "model_id": "9f8e9e9a430c482882acbb6a8eb69d3c",
              "version_minor": 0,
              "version_major": 2
            },
            "text/plain": [
              "VBox(children=(Label(value='Select your painting!'), FileUpload(value={}, description='Upload'), Button(descri…"
            ]
          },
          "metadata": {
            "tags": []
          }
        }
      ]
    }
  ]
}